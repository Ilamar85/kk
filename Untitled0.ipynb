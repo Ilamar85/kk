{
  "nbformat": 4,
  "nbformat_minor": 0,
  "metadata": {
    "colab": {
      "provenance": [],
      "authorship_tag": "ABX9TyO8TKgbaIyUAmSXAY7/Y+c7",
      "include_colab_link": true
    },
    "kernelspec": {
      "name": "python3",
      "display_name": "Python 3"
    },
    "language_info": {
      "name": "python"
    }
  },
  "cells": [
    {
      "cell_type": "markdown",
      "metadata": {
        "id": "view-in-github",
        "colab_type": "text"
      },
      "source": [
        "<a href=\"https://colab.research.google.com/github/Ilamar85/kk/blob/main/Untitled0.ipynb\" target=\"_parent\"><img src=\"https://colab.research.google.com/assets/colab-badge.svg\" alt=\"Open In Colab\"/></a>"
      ]
    },
    {
      "cell_type": "code",
      "execution_count": null,
      "metadata": {
        "id": "q3qo6eV27j_r"
      },
      "outputs": [],
      "source": [
        "# prompt: crear código que ingresando la temperatura de un fluido vapor, imprima la entalpía en su punto de condensado saturado y vapor saturado\n",
        "\n",
        "def calcular_entalpia_vapor_saturado(temperatura):\n",
        "  \"\"\"\n",
        "  Calcula la entalpía de vapor saturado y líquido saturado a una temperatura dada.\n",
        "\n",
        "  Args:\n",
        "    temperatura: Temperatura del fluido en grados Celsius.\n",
        "\n",
        "  Returns:\n",
        "    Una tupla con la entalpía de vapor saturado y líquido saturado (en kJ/kg).\n",
        "  \"\"\"\n",
        "\n",
        "  # Aquí se deberían introducir las ecuaciones o datos para calcular la entalpía.\n",
        "  # Este es solo un ejemplo básico, en la vida real, se requiere una tabla de vapor o una correlación más compleja.\n",
        "  # Se recomienda utilizar una librería como CoolProp o REFPROP.\n",
        "  # En este ejemplo, usaremos una aproximación lineal.\n",
        "\n",
        "  if temperatura >= 0 and temperatura <= 100:\n",
        "    entalpia_vapor = 2675 - 2.3 * temperatura\n",
        "    entalpia_liquido = 4.2 * temperatura\n",
        "  else:\n",
        "    print(\"Temperatura fuera del rango de aplicación.\")\n",
        "    return None, None\n",
        "\n",
        "  return entalpia_vapor, entalpia_liquido\n",
        "\n",
        "# Obtener la temperatura del usuario.\n",
        "temperatura = float(input(\"Ingresa la temperatura del fluido en grados Celsius: \"))\n",
        "\n",
        "# Calcular y mostrar la entalpía de vapor saturado y líquido saturado.\n",
        "entalpia_vapor, entalpia_liquido = calcular_entalpia_vapor_saturado(temperatura)\n",
        "\n",
        "if entalpia_vapor is not None:\n",
        "  print(f\"La entalpía del vapor saturado a {temperatura}°C es: {entalpia_vapor:.2f} kJ/kg\")\n",
        "  print(f\"La entalpía del líquido saturado a {temperatura}°C es: {entalpia_liquido:.2f} kJ/kg\")"
      ]
    }
  ]
}